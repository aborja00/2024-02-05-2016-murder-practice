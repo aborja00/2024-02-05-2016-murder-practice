{
 "cells": [
  {
   "cell_type": "code",
   "execution_count": 1,
   "id": "5e66994d",
   "metadata": {},
   "outputs": [],
   "source": [
    "chicago_murder= 762"
   ]
  },
  {
   "cell_type": "code",
   "execution_count": 2,
   "id": "167d55fb",
   "metadata": {},
   "outputs": [],
   "source": [
    "chicago_pop= 2_705_000"
   ]
  },
  {
   "cell_type": "code",
   "execution_count": 3,
   "id": "afbcbd60",
   "metadata": {},
   "outputs": [],
   "source": [
    "losangeles_murders= 294 "
   ]
  },
  {
   "cell_type": "code",
   "execution_count": 4,
   "id": "523fe5b6",
   "metadata": {},
   "outputs": [],
   "source": [
    "losangeles_pop=3_976_000"
   ]
  },
  {
   "cell_type": "code",
   "execution_count": 5,
   "id": "fdea83b5",
   "metadata": {},
   "outputs": [],
   "source": [
    "nyc_murder=334"
   ]
  },
  {
   "cell_type": "code",
   "execution_count": 6,
   "id": "f39489e3",
   "metadata": {},
   "outputs": [],
   "source": [
    "nyc_pop=8_538_000"
   ]
  },
  {
   "cell_type": "code",
   "execution_count": 7,
   "id": "8e76bb6a",
   "metadata": {},
   "outputs": [],
   "source": [
    "sanjose_murder=47"
   ]
  },
  {
   "cell_type": "code",
   "execution_count": 8,
   "id": "b75dd018",
   "metadata": {},
   "outputs": [],
   "source": [
    "sanjose_pop=1_025_000"
   ]
  },
  {
   "cell_type": "code",
   "execution_count": 25,
   "id": "1fd0376c",
   "metadata": {},
   "outputs": [
    {
     "data": {
      "text/plain": [
       "28.170055452865068"
      ]
     },
     "execution_count": 25,
     "metadata": {},
     "output_type": "execute_result"
    }
   ],
   "source": [
    "chicago_rate=chicago_murder/chicago_pop * 100_000\n",
    "chicago_rate"
   ]
  },
  {
   "cell_type": "code",
   "execution_count": 26,
   "id": "625af071",
   "metadata": {},
   "outputs": [
    {
     "data": {
      "text/plain": [
       "7.394366197183098"
      ]
     },
     "execution_count": 26,
     "metadata": {},
     "output_type": "execute_result"
    }
   ],
   "source": [
    "losangeles_rate=losangeles_murders/losangeles_pop * 100_000\n",
    "losangeles_rate"
   ]
  },
  {
   "cell_type": "code",
   "execution_count": 27,
   "id": "23d48bac",
   "metadata": {},
   "outputs": [
    {
     "data": {
      "text/plain": [
       "3.911923167018037"
      ]
     },
     "execution_count": 27,
     "metadata": {},
     "output_type": "execute_result"
    }
   ],
   "source": [
    "nyc_rate=nyc_murder/nyc_pop * 100_000\n",
    "nyc_rate"
   ]
  },
  {
   "cell_type": "code",
   "execution_count": 32,
   "id": "40a5a146",
   "metadata": {},
   "outputs": [
    {
     "data": {
      "text/plain": [
       "4.585365853658536"
      ]
     },
     "execution_count": 32,
     "metadata": {},
     "output_type": "execute_result"
    }
   ],
   "source": [
    "sanjose_rate=sanjose_murder/sanjose_pop * 100_000\n",
    "sanjose_rate"
   ]
  },
  {
   "cell_type": "code",
   "execution_count": 33,
   "id": "2489275c",
   "metadata": {},
   "outputs": [
    {
     "name": "stdout",
     "output_type": "stream",
     "text": [
      "chicago has a murder rate of {chicago_rate} per 100k while New York City has a rate of {nyc_rate} per 100k\n"
     ]
    }
   ],
   "source": [
    "print (\"chicago has a murder rate of {chicago_rate} per 100k while New York City has a rate of {nyc_rate} per 100k\")"
   ]
  },
  {
   "cell_type": "code",
   "execution_count": null,
   "id": "10521292",
   "metadata": {},
   "outputs": [],
   "source": []
  }
 ],
 "metadata": {
  "kernelspec": {
   "display_name": "Python 3 (ipykernel)",
   "language": "python",
   "name": "python3"
  },
  "language_info": {
   "codemirror_mode": {
    "name": "ipython",
    "version": 3
   },
   "file_extension": ".py",
   "mimetype": "text/x-python",
   "name": "python",
   "nbconvert_exporter": "python",
   "pygments_lexer": "ipython3",
   "version": "3.11.5"
  }
 },
 "nbformat": 4,
 "nbformat_minor": 5
}
